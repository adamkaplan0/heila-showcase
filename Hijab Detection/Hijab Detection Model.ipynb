{
 "cells": [
  {
   "attachments": {},
   "cell_type": "markdown",
   "metadata": {},
   "source": [
    "# Hijab Detection Model"
   ]
  },
  {
   "cell_type": "code",
   "execution_count": 1,
   "metadata": {},
   "outputs": [],
   "source": [
    "import numpy as np\n",
    "import pandas as pd\n",
    "import matplotlib.pyplot as plt\n",
    "%matplotlib inline\n",
    "import sklearn.model_selection\n",
    "import tensorflow as tf\n",
    "import glob\n",
    "import cv2\n",
    "import os\n",
    "from PIL import Image"
   ]
  },
  {
   "cell_type": "markdown",
   "metadata": {},
   "source": [
    "## Network setup"
   ]
  },
  {
   "cell_type": "markdown",
   "metadata": {},
   "source": [
    "### VGGFace\n",
    "Due to being offline I had to download the VGGFace away from this script and simply load it in"
   ]
  },
  {
   "cell_type": "markdown",
   "metadata": {},
   "source": [
    "```\n",
    "from keras_vggface.vggface import VGGFace\n",
    "\n",
    "model = VGGFace(model='resnet50', include_top=False, input_shape=(200, 200, 3), pooling='avg')\n",
    "model.save('gender_detection/models/vggface')\n",
    "```"
   ]
  },
  {
   "cell_type": "code",
   "execution_count": 2,
   "metadata": {},
   "outputs": [],
   "source": [
    "vggface = tf.keras.models.load_model(os.path.expanduser(\"/home/gridsan/groups/irancovid/models/vggface\"), compile=False)\n",
    "# Make ALL VGGFace layers NOT trainable\n",
    "for layer in vggface.layers:\n",
    "    layer.trainable = False\n",
    "#vggface.summary(line_length=150)"
   ]
  },
  {
   "attachments": {},
   "cell_type": "markdown",
   "metadata": {},
   "source": [
    "### Adding Hijab Detection Layers"
   ]
  },
  {
   "cell_type": "code",
   "execution_count": 3,
   "metadata": {},
   "outputs": [
    {
     "name": "stdout",
     "output_type": "stream",
     "text": [
      "Model: \"sequential\"\n",
      "_________________________________________________________________\n",
      "Layer (type)                 Output Shape              Param #   \n",
      "=================================================================\n",
      "vggface_resnet50 (Functional (None, 2048)              23561152  \n",
      "_________________________________________________________________\n",
      "batch_normalization (BatchNo (None, 2048)              8192      \n",
      "_________________________________________________________________\n",
      "dense (Dense)                (None, 2)                 4098      \n",
      "=================================================================\n",
      "Total params: 23,573,442\n",
      "Trainable params: 8,194\n",
      "Non-trainable params: 23,565,248\n",
      "_________________________________________________________________\n"
     ]
    }
   ],
   "source": [
    "# Create the hijab detection network\n",
    "hijab_detection = tf.keras.Sequential()\n",
    "\n",
    "# Add the VGGFace network\n",
    "hijab_detection.add(vggface)\n",
    "# And a batch normalization layer\n",
    "hijab_detection.add(tf.keras.layers.BatchNormalization())\n",
    "# And finally, a sigmoid output layer\n",
    "hijab_detection.add(tf.keras.layers.Dense(2, activation=\"sigmoid\"))\n",
    "\n",
    "# Print the summary\n",
    "hijab_detection.summary()"
   ]
  },
  {
   "cell_type": "code",
   "execution_count": 4,
   "metadata": {},
   "outputs": [],
   "source": [
    "# Compile the hijab detection network\n",
    "hijab_detection.compile(optimizer=\"adam\", loss=\"binary_crossentropy\", metrics=[\"accuracy\"])"
   ]
  },
  {
   "attachments": {},
   "cell_type": "markdown",
   "metadata": {},
   "source": [
    "## Load in the Data"
   ]
  },
  {
   "cell_type": "code",
   "execution_count": 5,
   "metadata": {},
   "outputs": [
    {
     "data": {
      "text/html": [
       "<div>\n",
       "<style scoped>\n",
       "    .dataframe tbody tr th:only-of-type {\n",
       "        vertical-align: middle;\n",
       "    }\n",
       "\n",
       "    .dataframe tbody tr th {\n",
       "        vertical-align: top;\n",
       "    }\n",
       "\n",
       "    .dataframe thead th {\n",
       "        text-align: right;\n",
       "    }\n",
       "</style>\n",
       "<table border=\"1\" class=\"dataframe\">\n",
       "  <thead>\n",
       "    <tr style=\"text-align: right;\">\n",
       "      <th></th>\n",
       "      <th>image_path_regular</th>\n",
       "      <th>image_path_scaled</th>\n",
       "      <th>image_name</th>\n",
       "      <th>language</th>\n",
       "      <th>hijab</th>\n",
       "      <th>image_path</th>\n",
       "    </tr>\n",
       "  </thead>\n",
       "  <tbody>\n",
       "    <tr>\n",
       "      <th>0</th>\n",
       "      <td>/home/gridsan/groups/irancovid/data/hijab-dete...</td>\n",
       "      <td>/home/gridsan/groups/irancovid/data/hijab-dete...</td>\n",
       "      <td>CF-4lmbnVxP</td>\n",
       "      <td>Arabic</td>\n",
       "      <td>1</td>\n",
       "      <td>/home/gridsan/groups/irancovid/data/hijab-dete...</td>\n",
       "    </tr>\n",
       "    <tr>\n",
       "      <th>1</th>\n",
       "      <td>/home/gridsan/groups/irancovid/data/hijab-dete...</td>\n",
       "      <td>/home/gridsan/groups/irancovid/data/hijab-dete...</td>\n",
       "      <td>CGhI8ROACO_</td>\n",
       "      <td>Arabic</td>\n",
       "      <td>1</td>\n",
       "      <td>/home/gridsan/groups/irancovid/data/hijab-dete...</td>\n",
       "    </tr>\n",
       "    <tr>\n",
       "      <th>2</th>\n",
       "      <td>/home/gridsan/groups/irancovid/data/hijab-dete...</td>\n",
       "      <td>/home/gridsan/groups/irancovid/data/hijab-dete...</td>\n",
       "      <td>CJytLBbJO90</td>\n",
       "      <td>Arabic</td>\n",
       "      <td>1</td>\n",
       "      <td>/home/gridsan/groups/irancovid/data/hijab-dete...</td>\n",
       "    </tr>\n",
       "    <tr>\n",
       "      <th>3</th>\n",
       "      <td>/home/gridsan/groups/irancovid/data/hijab-dete...</td>\n",
       "      <td>/home/gridsan/groups/irancovid/data/hijab-dete...</td>\n",
       "      <td>CFjd3w_An8l</td>\n",
       "      <td>Arabic</td>\n",
       "      <td>1</td>\n",
       "      <td>/home/gridsan/groups/irancovid/data/hijab-dete...</td>\n",
       "    </tr>\n",
       "    <tr>\n",
       "      <th>4</th>\n",
       "      <td>/home/gridsan/groups/irancovid/data/hijab-dete...</td>\n",
       "      <td>/home/gridsan/groups/irancovid/data/hijab-dete...</td>\n",
       "      <td>CAtVAbxD1qr</td>\n",
       "      <td>Arabic</td>\n",
       "      <td>1</td>\n",
       "      <td>/home/gridsan/groups/irancovid/data/hijab-dete...</td>\n",
       "    </tr>\n",
       "    <tr>\n",
       "      <th>...</th>\n",
       "      <td>...</td>\n",
       "      <td>...</td>\n",
       "      <td>...</td>\n",
       "      <td>...</td>\n",
       "      <td>...</td>\n",
       "      <td>...</td>\n",
       "    </tr>\n",
       "    <tr>\n",
       "      <th>12532</th>\n",
       "      <td>/home/gridsan/groups/irancovid/data/hijab-dete...</td>\n",
       "      <td>/home/gridsan/groups/irancovid/data/hijab-dete...</td>\n",
       "      <td>CItTs4rJZ-o</td>\n",
       "      <td>Turkish</td>\n",
       "      <td>1</td>\n",
       "      <td>/home/gridsan/groups/irancovid/data/hijab-dete...</td>\n",
       "    </tr>\n",
       "    <tr>\n",
       "      <th>12533</th>\n",
       "      <td>/home/gridsan/groups/irancovid/data/hijab-dete...</td>\n",
       "      <td>/home/gridsan/groups/irancovid/data/hijab-dete...</td>\n",
       "      <td>B2RYAoOA-Ul</td>\n",
       "      <td>Turkish</td>\n",
       "      <td>0</td>\n",
       "      <td>/home/gridsan/groups/irancovid/data/hijab-dete...</td>\n",
       "    </tr>\n",
       "    <tr>\n",
       "      <th>12534</th>\n",
       "      <td>/home/gridsan/groups/irancovid/data/hijab-dete...</td>\n",
       "      <td>/home/gridsan/groups/irancovid/data/hijab-dete...</td>\n",
       "      <td>CC4BaHlgxRL</td>\n",
       "      <td>Turkish</td>\n",
       "      <td>1</td>\n",
       "      <td>/home/gridsan/groups/irancovid/data/hijab-dete...</td>\n",
       "    </tr>\n",
       "    <tr>\n",
       "      <th>12535</th>\n",
       "      <td>/home/gridsan/groups/irancovid/data/hijab-dete...</td>\n",
       "      <td>/home/gridsan/groups/irancovid/data/hijab-dete...</td>\n",
       "      <td>BvwLWz-hQZV</td>\n",
       "      <td>Turkish</td>\n",
       "      <td>1</td>\n",
       "      <td>/home/gridsan/groups/irancovid/data/hijab-dete...</td>\n",
       "    </tr>\n",
       "    <tr>\n",
       "      <th>12536</th>\n",
       "      <td>/home/gridsan/groups/irancovid/data/hijab-dete...</td>\n",
       "      <td>/home/gridsan/groups/irancovid/data/hijab-dete...</td>\n",
       "      <td>CC-vM0wDjXI</td>\n",
       "      <td>Turkish</td>\n",
       "      <td>1</td>\n",
       "      <td>/home/gridsan/groups/irancovid/data/hijab-dete...</td>\n",
       "    </tr>\n",
       "  </tbody>\n",
       "</table>\n",
       "<p>11314 rows × 6 columns</p>\n",
       "</div>"
      ],
      "text/plain": [
       "                                      image_path_regular  \\\n",
       "0      /home/gridsan/groups/irancovid/data/hijab-dete...   \n",
       "1      /home/gridsan/groups/irancovid/data/hijab-dete...   \n",
       "2      /home/gridsan/groups/irancovid/data/hijab-dete...   \n",
       "3      /home/gridsan/groups/irancovid/data/hijab-dete...   \n",
       "4      /home/gridsan/groups/irancovid/data/hijab-dete...   \n",
       "...                                                  ...   \n",
       "12532  /home/gridsan/groups/irancovid/data/hijab-dete...   \n",
       "12533  /home/gridsan/groups/irancovid/data/hijab-dete...   \n",
       "12534  /home/gridsan/groups/irancovid/data/hijab-dete...   \n",
       "12535  /home/gridsan/groups/irancovid/data/hijab-dete...   \n",
       "12536  /home/gridsan/groups/irancovid/data/hijab-dete...   \n",
       "\n",
       "                                       image_path_scaled   image_name  \\\n",
       "0      /home/gridsan/groups/irancovid/data/hijab-dete...  CF-4lmbnVxP   \n",
       "1      /home/gridsan/groups/irancovid/data/hijab-dete...  CGhI8ROACO_   \n",
       "2      /home/gridsan/groups/irancovid/data/hijab-dete...  CJytLBbJO90   \n",
       "3      /home/gridsan/groups/irancovid/data/hijab-dete...  CFjd3w_An8l   \n",
       "4      /home/gridsan/groups/irancovid/data/hijab-dete...  CAtVAbxD1qr   \n",
       "...                                                  ...          ...   \n",
       "12532  /home/gridsan/groups/irancovid/data/hijab-dete...  CItTs4rJZ-o   \n",
       "12533  /home/gridsan/groups/irancovid/data/hijab-dete...  B2RYAoOA-Ul   \n",
       "12534  /home/gridsan/groups/irancovid/data/hijab-dete...  CC4BaHlgxRL   \n",
       "12535  /home/gridsan/groups/irancovid/data/hijab-dete...  BvwLWz-hQZV   \n",
       "12536  /home/gridsan/groups/irancovid/data/hijab-dete...  CC-vM0wDjXI   \n",
       "\n",
       "      language  hijab                                         image_path  \n",
       "0       Arabic      1  /home/gridsan/groups/irancovid/data/hijab-dete...  \n",
       "1       Arabic      1  /home/gridsan/groups/irancovid/data/hijab-dete...  \n",
       "2       Arabic      1  /home/gridsan/groups/irancovid/data/hijab-dete...  \n",
       "3       Arabic      1  /home/gridsan/groups/irancovid/data/hijab-dete...  \n",
       "4       Arabic      1  /home/gridsan/groups/irancovid/data/hijab-dete...  \n",
       "...        ...    ...                                                ...  \n",
       "12532  Turkish      1  /home/gridsan/groups/irancovid/data/hijab-dete...  \n",
       "12533  Turkish      0  /home/gridsan/groups/irancovid/data/hijab-dete...  \n",
       "12534  Turkish      1  /home/gridsan/groups/irancovid/data/hijab-dete...  \n",
       "12535  Turkish      1  /home/gridsan/groups/irancovid/data/hijab-dete...  \n",
       "12536  Turkish      1  /home/gridsan/groups/irancovid/data/hijab-dete...  \n",
       "\n",
       "[11314 rows x 6 columns]"
      ]
     },
     "execution_count": 5,
     "metadata": {},
     "output_type": "execute_result"
    }
   ],
   "source": [
    "# NOTE: Check out the Hijab labelling pipeline to see how I labeled it\n",
    "data = pd.read_csv(\"/home/gridsan/groups/irancovid/data/hijab-detection/temp/labeled_hijab_images.csv\")\n",
    "# Remove any uncertain labels\n",
    "data = data[data.hijab != -1]\n",
    "# And rely on the scaled image for training\n",
    "data[\"image_path\"] = data[\"image_path_scaled\"]"
   ]
  },
  {
   "cell_type": "code",
   "execution_count": 6,
   "metadata": {},
   "outputs": [],
   "source": [
    "# Split train and test data\n",
    "imagepaths_train, imagepaths_test, hijab_train, hijab_test = sklearn.model_selection\\\n",
    "    .train_test_split(data[[\"image_path\"]], data[[\"hijab\"]], test_size=0.3, random_state=1234)\n",
    "    \n",
    "# Convert outcomes to approriate keras types\n",
    "hijab_train = tf.keras.utils.to_categorical(hijab_train.hijab.to_numpy())\n",
    "hijab_test = tf.keras.utils.to_categorical(hijab_test.hijab.to_numpy())\n",
    "\n",
    "# Load images to np.arrays\n",
    "images_train = np.asarray(imagepaths_train.image_path\\\n",
    "    .apply(lambda x: tf.keras.preprocessing.image.img_to_array(\\\n",
    "        tf.keras.preprocessing.image.load_img(x, target_size=(200,200))\\\n",
    "    )).to_list())\n",
    "images_test = np.asarray(imagepaths_test.image_path\\\n",
    "    .apply(lambda x: tf.keras.preprocessing.image.img_to_array(\\\n",
    "        tf.keras.preprocessing.image.load_img(x, target_size=(200,200))\\\n",
    "    )).to_list())"
   ]
  },
  {
   "attachments": {},
   "cell_type": "markdown",
   "metadata": {},
   "source": [
    "## Train and Evaluate the Model"
   ]
  },
  {
   "cell_type": "code",
   "execution_count": 7,
   "metadata": {},
   "outputs": [
    {
     "name": "stdout",
     "output_type": "stream",
     "text": [
      "Epoch 1/15\n",
      "248/248 [==============================] - 66s 255ms/step - loss: 0.4899 - accuracy: 0.7745 - val_loss: 0.3011 - val_accuracy: 0.8860\n",
      "Epoch 2/15\n",
      "248/248 [==============================] - 54s 220ms/step - loss: 0.2800 - accuracy: 0.8830 - val_loss: 0.2830 - val_accuracy: 0.8928\n",
      "Epoch 3/15\n",
      "248/248 [==============================] - 54s 219ms/step - loss: 0.2725 - accuracy: 0.8894 - val_loss: 0.2805 - val_accuracy: 0.8884\n",
      "Epoch 4/15\n",
      "248/248 [==============================] - 54s 217ms/step - loss: 0.2461 - accuracy: 0.9030 - val_loss: 0.2858 - val_accuracy: 0.8887\n",
      "Epoch 5/15\n",
      "248/248 [==============================] - 53s 215ms/step - loss: 0.2459 - accuracy: 0.9029 - val_loss: 0.2786 - val_accuracy: 0.8937\n",
      "Epoch 6/15\n",
      "248/248 [==============================] - 53s 216ms/step - loss: 0.2284 - accuracy: 0.9086 - val_loss: 0.2745 - val_accuracy: 0.8951\n",
      "Epoch 7/15\n",
      "248/248 [==============================] - 54s 218ms/step - loss: 0.2317 - accuracy: 0.9047 - val_loss: 0.2954 - val_accuracy: 0.8842\n",
      "Epoch 8/15\n",
      "248/248 [==============================] - 53s 216ms/step - loss: 0.2190 - accuracy: 0.9129 - val_loss: 0.2786 - val_accuracy: 0.8948\n",
      "Epoch 9/15\n",
      "248/248 [==============================] - 53s 212ms/step - loss: 0.2134 - accuracy: 0.9122 - val_loss: 0.2823 - val_accuracy: 0.8978\n",
      "Epoch 10/15\n",
      "248/248 [==============================] - 54s 217ms/step - loss: 0.2021 - accuracy: 0.9224 - val_loss: 0.2823 - val_accuracy: 0.8943\n",
      "Epoch 11/15\n",
      "248/248 [==============================] - 53s 216ms/step - loss: 0.2204 - accuracy: 0.9145 - val_loss: 0.2915 - val_accuracy: 0.8948\n"
     ]
    }
   ],
   "source": [
    "history = hijab_detection.fit(images_train, hijab_train, batch_size=32, epochs=15, \n",
    "    validation_data=(images_test, hijab_test),\n",
    "    callbacks=[tf.keras.callbacks.EarlyStopping(monitor=\"val_loss\", mode=\"min\", patience=5, restore_best_weights = True)])"
   ]
  },
  {
   "cell_type": "code",
   "execution_count": 8,
   "metadata": {},
   "outputs": [
    {
     "name": "stdout",
     "output_type": "stream",
     "text": [
      "INFO:tensorflow:Assets written to: /home/gridsan/akapl/irancovid/models/hijab_detection/assets\n"
     ]
    }
   ],
   "source": [
    "# And save the model\n",
    "hijab_detection.save(os.path.expanduser(\"~/irancovid/models/hijab_detection\"))"
   ]
  }
 ],
 "metadata": {
  "kernelspec": {
   "display_name": "Python [conda env:.conda-tf-cpu]",
   "language": "python",
   "name": "conda-env-.conda-tf-cpu-py"
  },
  "language_info": {
   "codemirror_mode": {
    "name": "ipython",
    "version": 3
   },
   "file_extension": ".py",
   "mimetype": "text/x-python",
   "name": "python",
   "nbconvert_exporter": "python",
   "pygments_lexer": "ipython3",
   "version": "3.8.5"
  },
  "latex_envs": {
   "LaTeX_envs_menu_present": true,
   "autoclose": false,
   "autocomplete": true,
   "bibliofile": "biblio.bib",
   "cite_by": "apalike",
   "current_citInitial": 1,
   "eqLabelWithNumbers": true,
   "eqNumInitial": 1,
   "hotkeys": {
    "equation": "Ctrl-E",
    "itemize": "Ctrl-I"
   },
   "labels_anchors": false,
   "latex_user_defs": false,
   "report_style_numbering": false,
   "user_envs_cfg": false
  },
  "toc": {
   "base_numbering": 1,
   "nav_menu": {},
   "number_sections": true,
   "sideBar": true,
   "skip_h1_title": false,
   "title_cell": "Table of Contents",
   "title_sidebar": "Contents",
   "toc_cell": false,
   "toc_position": {},
   "toc_section_display": true,
   "toc_window_display": false
  },
  "varInspector": {
   "cols": {
    "lenName": 16,
    "lenType": 16,
    "lenVar": 40
   },
   "kernels_config": {
    "python": {
     "delete_cmd_postfix": "",
     "delete_cmd_prefix": "del ",
     "library": "var_list.py",
     "varRefreshCmd": "print(var_dic_list())"
    },
    "r": {
     "delete_cmd_postfix": ") ",
     "delete_cmd_prefix": "rm(",
     "library": "var_list.r",
     "varRefreshCmd": "cat(var_dic_list()) "
    }
   },
   "types_to_exclude": [
    "module",
    "function",
    "builtin_function_or_method",
    "instance",
    "_Feature"
   ],
   "window_display": false
  }
 },
 "nbformat": 4,
 "nbformat_minor": 2
}
