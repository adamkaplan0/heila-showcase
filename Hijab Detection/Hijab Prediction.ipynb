{
 "cells": [
  {
   "attachments": {},
   "cell_type": "markdown",
   "metadata": {},
   "source": [
    "# Hijab Prediction"
   ]
  },
  {
   "cell_type": "code",
   "execution_count": 2,
   "metadata": {
    "vscode": {
     "languageId": "python"
    }
   },
   "outputs": [],
   "source": [
    "import numpy as np\n",
    "import pandas as pd\n",
    "import matplotlib.pyplot as plt\n",
    "%matplotlib inline\n",
    "import sklearn.model_selection\n",
    "import tensorflow as tf\n",
    "import glob\n",
    "import cv2\n",
    "import os\n",
    "from PIL import Image\n",
    "import dlib, face_recognition_models, face_recognition, openface\n",
    "from keras.models import load_model\n",
    "from keras.preprocessing.image import img_to_array, load_img"
   ]
  },
  {
   "attachments": {},
   "cell_type": "markdown",
   "metadata": {},
   "source": [
    "## Load in the Data & Models"
   ]
  },
  {
   "attachments": {},
   "cell_type": "markdown",
   "metadata": {},
   "source": [
    "### Data"
   ]
  },
  {
   "cell_type": "code",
   "execution_count": null,
   "metadata": {
    "vscode": {
     "languageId": "python"
    }
   },
   "outputs": [],
   "source": [
    "# Read in the scraped Instagram post data\n",
    "data = pd.read_csv(\"/home/gridsan/groups/irancovid/data/iran_instagram_p1and2_pre-processed.csv\")\n",
    "# Parse out the image name from the Instagram post link\n",
    "data[\"image_name\"] = data.post_link.apply(lambda x: x.split(\"/\")[-1])\n",
    "\n",
    "# Gather all of the image names from the labeled Hijab images\n",
    "face_paths = glob.glob(\"/home/gridsan/groups/irancovid/data/iran_instagram_p1and2_images_s0/hijab-faces/*.png\")\n",
    "# Subset the data to the labeled images\n",
    "data = data[data.image_name.isin([path.split(\"/\")[-1][:-4] for path in face_paths])]\n",
    "\n",
    "# Add the path to the extracted hijab image to the dataframe\n",
    "data[\"image_path\"] = data.image_name.apply(lambda x: f\"/home/gridsan/groups/irancovid/data/iran_instagram_p1and2_images_s0/hijab-faces/{x}.png\")"
   ]
  },
  {
   "attachments": {},
   "cell_type": "markdown",
   "metadata": {},
   "source": [
    "### Models\n",
    "Some pre-trained (third-party) facial recognition/alignment models as well as homebrewed gender and hijab detection networks."
   ]
  },
  {
   "cell_type": "code",
   "execution_count": null,
   "metadata": {
    "vscode": {
     "languageId": "python"
    }
   },
   "outputs": [],
   "source": [
    "# Initialize the face detector\n",
    "face_detector = dlib.get_frontal_face_detector()\n",
    "# And face aligner models\n",
    "predictor_68_point_model = face_recognition_models.pose_predictor_model_location()\n",
    "face_aligner = openface.AlignDlib(predictor_68_point_model)\n",
    "\n",
    "# Load in the two pre-trained neural network models\n",
    "gender_detection = load_model(\"/home/gridsan/groups/irancovid/models/gender_detection\", compile=True)\n",
    "hijab_detection = load_model(\"/home/gridsan/akapl/irancovid/models/hijab_detection\", compile=True)"
   ]
  },
  {
   "attachments": {},
   "cell_type": "markdown",
   "metadata": {},
   "source": [
    "## Prediction Functions"
   ]
  },
  {
   "attachments": {},
   "cell_type": "markdown",
   "metadata": {},
   "source": [
    "### Helper Functions\n",
    "Two basic helper functions to predict the gender and hijab based on the pre-trained models."
   ]
  },
  {
   "cell_type": "code",
   "execution_count": 29,
   "metadata": {
    "vscode": {
     "languageId": "python"
    }
   },
   "outputs": [],
   "source": [
    "# Helper function to predict the gender of a face using the gender_detection network\n",
    "def predict_gender(faces_array):\n",
    "    gender_probabilities = gender_detection.predict(scaled_faces)\n",
    "    gender_predictions = [{0: \"Male\", 1: \"Female\"}[g] for g in np.argmax(gender_probabilities, axis=1)]\n",
    "    return gender_predictions\n",
    "\n",
    "# Helper function to predict whether or not the person in the picture is wearing a hijab\n",
    "def predict_hijab(faces_array, gender_predictions):\n",
    "    # Initialize an array to store the predictions as well as IDs of images of women\n",
    "    hijab_predictions = []\n",
    "    female_faces = []\n",
    "    # For each of the gender predictions\n",
    "    for i in range(0, len(gender_predictions)):\n",
    "        # Mark the hijab prediction as 0 if person is predicted to be \"Male\"\n",
    "        if gender_predictions[i] == \"Male\":\n",
    "            hijab_predictions[i] = 0\n",
    "        # Otherwise, mark it as unknown and append the face to the female faces array\n",
    "        else:\n",
    "            hijab_predictions[i] = -1\n",
    "            female_faces.append(i)\n",
    "    \n",
    "    # For each of the predicted female faces, predict whether they are wearing a hijab\n",
    "    hijab_probabilities = hijab_detection.predict(faces_array[female_faces])\n",
    "    hijab_predictions_subset = np.argmax(hijab_probabilities, axis=1)\n",
    "    # NOTE: We need to update the original predictions array\n",
    "    for i in range(0, len(female_faces)):\n",
    "        hijab_predictions[female_faces[i]] = hijab_predictions_subset[i]\n",
    "    return hijab_predictions"
   ]
  },
  {
   "attachments": {},
   "cell_type": "markdown",
   "metadata": {},
   "source": [
    "### Key Function\n",
    "The main function of this notebook. Takes in an image path, and outputs all the faces and whether or not we believe a hijab is present in the image."
   ]
  },
  {
   "cell_type": "code",
   "execution_count": null,
   "metadata": {
    "vscode": {
     "languageId": "python"
    }
   },
   "outputs": [],
   "source": [
    "\n",
    "# The main function, which given an image predicts whether or not the person is wearing a hijab\n",
    "def process_image(image_source_path, scaling_factor=0.1, size=200):\n",
    "    try:\n",
    "        # Load the file\n",
    "        image = face_recognition.load_image_file(image_source_path)\n",
    "        # Extract the image name\n",
    "        image_name = image_source_path.split('/')[-1].split('.')[0]\n",
    "\n",
    "        # Initialize an array of scaled faces and face rectangles\n",
    "        scaled_faces = []\n",
    "        face_rectangles = []\n",
    "        # For each detected face in the image\n",
    "        for i, face_rectangle in enumerate(face_detector(image, 1)):\n",
    "            # Scale the face boundary box by scaling_factor to get a slightly less zoomed in face\n",
    "            # For details about +/- see the dlib.grow_rect() function\n",
    "            l = int(face_rectangle.left() - scaling_factor * face_rectangle.left())\n",
    "            r = int(face_rectangle.right() + scaling_factor * face_rectangle.right())\n",
    "            t = int(face_rectangle.top() - scaling_factor * face_rectangle.top())\n",
    "            b = int(face_rectangle.bottom() + scaling_factor * face_rectangle.bottom())\n",
    "            face_rectangles.append(face_rectangle)\n",
    "            # NOTE: Landmark indices are different from non-scaled face aligning\n",
    "            scaled_face_aligned = face_aligner\\\n",
    "                .align(size, image, dlib.rectangle(l,t,r,b),\n",
    "                       landmarkIndices=openface.AlignDlib.INNER_EYES_AND_BOTTOM_LIP)\n",
    "            # Append the scaled image to the array\n",
    "            scaled_faces.append(tf.keras.preprocessing.image.img_to_array(Image.fromarray(scaled_face_aligned)))\n",
    "        # Now predict the gender of the found faces\n",
    "        scaled_faces = np.asarray(scaled_faces)\n",
    "        gender_predictions = predict_gender(scaled_faces)\n",
    "        # And then whether they are wearing a Hijab\n",
    "        hijab_predictions = predict_hijab(scaled_faces, gender_predictions)\n",
    "        # Finally, return the face rectangle and hijab predictions for plotting\n",
    "        return (list(image_name * len(face_rectangles)), range(1, len(face_rectangles) + 1), face_rectangles, hijab_predictions)\n",
    "    except:\n",
    "        print(f\"Error with image: {image_source_path}\", file=sys.stderr)\n",
    "        print(f\"Message: {sys.exc_info()[0]}\", file=sys.stderr)"
   ]
  },
  {
   "attachments": {},
   "cell_type": "markdown",
   "metadata": {},
   "source": [
    "## Example"
   ]
  },
  {
   "cell_type": "code",
   "execution_count": null,
   "metadata": {
    "vscode": {
     "languageId": "python"
    }
   },
   "outputs": [],
   "source": [
    "# Predict hijab wearing for all the images in our data set in parallel\n",
    "data[\"output\"] = data[image_path_column_name].swifter.progress_bar(True)\\\n",
    "    .apply(lambda path: process_image(path))\n",
    "\n",
    "# Change the index to be the image path\n",
    "data = data.set_index(image_path_column_name)\n",
    "\n",
    "# And create an output dataset, which contains the image name, face number, rectangle and prediction\n",
    "output = pd.DataFrame(data.output.tolist(), index = data.index,\n",
    "                      columns = [\"image_name\", \"face_number\", \"face_rectangle\", \"hijab_prediction\"])\\\n",
    "    .swifter.progress_bar(True).apply(pd.Series.explode)\n",
    "# Drop any NAs and reset the index\n",
    "output = output.dropna().reset_index()\n",
    "        \n",
    "# Save the output\n",
    "output.to_csv(spreadsheet_output_path, index = False)"
   ]
  }
 ],
 "metadata": {
  "kernelspec": {
   "display_name": "Python [conda env:.conda-tf-cpu]",
   "language": "python",
   "name": "conda-env-.conda-tf-cpu-py"
  },
  "latex_envs": {
   "LaTeX_envs_menu_present": true,
   "autoclose": false,
   "autocomplete": true,
   "bibliofile": "biblio.bib",
   "cite_by": "apalike",
   "current_citInitial": 1,
   "eqLabelWithNumbers": true,
   "eqNumInitial": 1,
   "hotkeys": {
    "equation": "Ctrl-E",
    "itemize": "Ctrl-I"
   },
   "labels_anchors": false,
   "latex_user_defs": false,
   "report_style_numbering": false,
   "user_envs_cfg": false
  },
  "toc": {
   "base_numbering": 1,
   "nav_menu": {},
   "number_sections": true,
   "sideBar": true,
   "skip_h1_title": false,
   "title_cell": "Table of Contents",
   "title_sidebar": "Contents",
   "toc_cell": false,
   "toc_position": {},
   "toc_section_display": true,
   "toc_window_display": false
  },
  "varInspector": {
   "cols": {
    "lenName": 16,
    "lenType": 16,
    "lenVar": 40
   },
   "kernels_config": {
    "python": {
     "delete_cmd_postfix": "",
     "delete_cmd_prefix": "del ",
     "library": "var_list.py",
     "varRefreshCmd": "print(var_dic_list())"
    },
    "r": {
     "delete_cmd_postfix": ") ",
     "delete_cmd_prefix": "rm(",
     "library": "var_list.r",
     "varRefreshCmd": "cat(var_dic_list()) "
    }
   },
   "types_to_exclude": [
    "module",
    "function",
    "builtin_function_or_method",
    "instance",
    "_Feature"
   ],
   "window_display": false
  }
 },
 "nbformat": 4,
 "nbformat_minor": 2
}
